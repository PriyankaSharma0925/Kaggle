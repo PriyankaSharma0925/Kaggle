{
  "nbformat": 4,
  "nbformat_minor": 0,
  "metadata": {
    "colab": {
      "name": "WebScrappingSoup.ipynb",
      "provenance": [],
      "authorship_tag": "ABX9TyPvJVkHjwLrmQoWlvZDxYQu",
      "include_colab_link": true
    },
    "kernelspec": {
      "name": "python3",
      "display_name": "Python 3"
    },
    "language_info": {
      "name": "python"
    }
  },
  "cells": [
    {
      "cell_type": "markdown",
      "metadata": {
        "id": "view-in-github",
        "colab_type": "text"
      },
      "source": [
        "<a href=\"https://colab.research.google.com/github/PriyankaSharma0925/Kaggle/blob/main/WebScrappingSoup.ipynb\" target=\"_parent\"><img src=\"https://colab.research.google.com/assets/colab-badge.svg\" alt=\"Open In Colab\"/></a>"
      ]
    },
    {
      "cell_type": "markdown",
      "source": [
        "# WebScrapping with beautifulSoup."
      ],
      "metadata": {
        "id": "2cY5rYr767t2"
      }
    },
    {
      "cell_type": "markdown",
      "source": [
        ""
      ],
      "metadata": {
        "id": "ZTBA0gUt62bF"
      }
    },
    {
      "cell_type": "code",
      "source": [
        "from urllib.request import urlopen\n",
        "import pandas as pd\n",
        "from bs4 import BeautifulSoup\n"
      ],
      "metadata": {
        "id": "qmsu2qg46rU1"
      },
      "execution_count": 7,
      "outputs": []
    },
    {
      "cell_type": "markdown",
      "source": [
        "#Specify the url"
      ],
      "metadata": {
        "id": "Z_k716Zg7Sc5"
      }
    },
    {
      "cell_type": "code",
      "source": [
        "wiki = \"https://en.wikipedia.org/wiki/List_of_state_and_union_territory_capitals_in_India\""
      ],
      "metadata": {
        "id": "T0iROkNG7SB-"
      },
      "execution_count": 5,
      "outputs": []
    },
    {
      "cell_type": "code",
      "source": [
        "page=urlopen(wiki)"
      ],
      "metadata": {
        "id": "RExd-IV97hGo"
      },
      "execution_count": 6,
      "outputs": []
    },
    {
      "cell_type": "code",
      "source": [
        "soup=BeautifulSoup(page)\n",
        "print(soup.prettify())"
      ],
      "metadata": {
        "id": "1rp0E9Wc7QXp"
      },
      "execution_count": null,
      "outputs": []
    },
    {
      "cell_type": "code",
      "source": [
        "soup.title"
      ],
      "metadata": {
        "colab": {
          "base_uri": "https://localhost:8080/"
        },
        "id": "i6dCdZY89ABo",
        "outputId": "98602088-98ba-4517-df0c-d6426b823ae2"
      },
      "execution_count": 9,
      "outputs": [
        {
          "output_type": "execute_result",
          "data": {
            "text/plain": [
              "<title>List of state and union territory capitals in India - Wikipedia</title>"
            ]
          },
          "metadata": {},
          "execution_count": 9
        }
      ]
    },
    {
      "cell_type": "code",
      "source": [
        "soup.a\n"
      ],
      "metadata": {
        "colab": {
          "base_uri": "https://localhost:8080/"
        },
        "id": "tD5y5UwX9ZMl",
        "outputId": "1b5e0a6f-7129-4cc7-ec8e-d9895be7ff9f"
      },
      "execution_count": 10,
      "outputs": [
        {
          "output_type": "execute_result",
          "data": {
            "text/plain": [
              "<a id=\"top\"></a>"
            ]
          },
          "metadata": {},
          "execution_count": 10
        }
      ]
    },
    {
      "cell_type": "code",
      "source": [
        "all_links=soup.find_all('a')"
      ],
      "metadata": {
        "id": "eDrMd3cr9j-L"
      },
      "execution_count": 14,
      "outputs": []
    },
    {
      "cell_type": "code",
      "source": [
        "for link in all_links:\n",
        "  print(link.get('href'))"
      ],
      "metadata": {
        "id": "aWL6mvE39rn6"
      },
      "execution_count": null,
      "outputs": []
    },
    {
      "cell_type": "code",
      "source": [
        ""
      ],
      "metadata": {
        "id": "9KDRPhnK-B6h"
      },
      "execution_count": null,
      "outputs": []
    }
  ]
}