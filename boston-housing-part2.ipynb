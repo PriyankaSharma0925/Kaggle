{
 "cells": [
  {
   "cell_type": "code",
   "execution_count": 1,
   "id": "19c31905",
   "metadata": {
    "_cell_guid": "b1076dfc-b9ad-4769-8c92-a6c4dae69d19",
    "_uuid": "8f2839f25d086af736a60e9eeb907d3b93b6e0e5",
    "execution": {
     "iopub.execute_input": "2022-04-27T11:27:39.462552Z",
     "iopub.status.busy": "2022-04-27T11:27:39.461546Z",
     "iopub.status.idle": "2022-04-27T11:27:40.796405Z",
     "shell.execute_reply": "2022-04-27T11:27:40.795573Z",
     "shell.execute_reply.started": "2022-04-11T06:14:12.893822Z"
    },
    "papermill": {
     "duration": 1.37294,
     "end_time": "2022-04-27T11:27:40.796600",
     "exception": false,
     "start_time": "2022-04-27T11:27:39.423660",
     "status": "completed"
    },
    "tags": []
   },
   "outputs": [],
   "source": [
    "# This Python 3 environment comes with many helpful analytics libraries installed\n",
    "# It is defined by the kaggle/python Docker image: https://github.com/kaggle/docker-python\n",
    "# For example, here's several helpful packages to load\n",
    "\n",
    "import numpy as np # linear algebra\n",
    "import pandas as pd # data processing, CSV file I/O (e.g. pd.read_csv)\n",
    "#from sklearn.preprocessing import \n",
    "from sklearn.tree import DecisionTreeRegressor   \n",
    "from sklearn.metrics import mean_squared_error\n",
    "from sklearn.model_selection import train_test_split\n",
    "\n",
    "\n",
    "# Input data files are available in the read-only \"../input/\" directory\n",
    "# For example, running this (by clicking run or pressing Shift+Enter) will list all files under the input directory\n",
    "\n",
    "\n",
    "\n",
    "# You can write up to 20GB to the current directory (/kaggle/working/) that gets preserved as output when you create a version using \"Save & Run All\" \n",
    "# You can also write temporary files to /kaggle/temp/, but they won't be saved outside of the current session"
   ]
  },
  {
   "cell_type": "code",
   "execution_count": 2,
   "id": "f2c1d0ff",
   "metadata": {
    "execution": {
     "iopub.execute_input": "2022-04-27T11:27:40.855737Z",
     "iopub.status.busy": "2022-04-27T11:27:40.854724Z",
     "iopub.status.idle": "2022-04-27T11:27:40.860866Z",
     "shell.execute_reply": "2022-04-27T11:27:40.860307Z",
     "shell.execute_reply.started": "2022-04-11T06:14:14.262434Z"
    },
    "papermill": {
     "duration": 0.042026,
     "end_time": "2022-04-27T11:27:40.861033",
     "exception": false,
     "start_time": "2022-04-27T11:27:40.819007",
     "status": "completed"
    },
    "tags": []
   },
   "outputs": [],
   "source": [
    "%config Completer.use_jedi = False"
   ]
  },
  {
   "cell_type": "code",
   "execution_count": 3,
   "id": "89e1fab1",
   "metadata": {
    "execution": {
     "iopub.execute_input": "2022-04-27T11:27:40.910429Z",
     "iopub.status.busy": "2022-04-27T11:27:40.909612Z",
     "iopub.status.idle": "2022-04-27T11:27:40.931554Z",
     "shell.execute_reply": "2022-04-27T11:27:40.932333Z",
     "shell.execute_reply.started": "2022-04-11T06:14:14.279663Z"
    },
    "papermill": {
     "duration": 0.049102,
     "end_time": "2022-04-27T11:27:40.932547",
     "exception": false,
     "start_time": "2022-04-27T11:27:40.883445",
     "status": "completed"
    },
    "tags": []
   },
   "outputs": [],
   "source": [
    "dataset=pd.read_csv(\"../input/bostonhoustingmlnd/housing.csv\")"
   ]
  },
  {
   "cell_type": "code",
   "execution_count": 4,
   "id": "9c4b7fec",
   "metadata": {
    "execution": {
     "iopub.execute_input": "2022-04-27T11:27:40.983569Z",
     "iopub.status.busy": "2022-04-27T11:27:40.982497Z",
     "iopub.status.idle": "2022-04-27T11:27:41.006092Z",
     "shell.execute_reply": "2022-04-27T11:27:41.006686Z",
     "shell.execute_reply.started": "2022-04-11T06:14:14.311108Z"
    },
    "papermill": {
     "duration": 0.050526,
     "end_time": "2022-04-27T11:27:41.006882",
     "exception": false,
     "start_time": "2022-04-27T11:27:40.956356",
     "status": "completed"
    },
    "tags": []
   },
   "outputs": [
    {
     "data": {
      "text/html": [
       "<div>\n",
       "<style scoped>\n",
       "    .dataframe tbody tr th:only-of-type {\n",
       "        vertical-align: middle;\n",
       "    }\n",
       "\n",
       "    .dataframe tbody tr th {\n",
       "        vertical-align: top;\n",
       "    }\n",
       "\n",
       "    .dataframe thead th {\n",
       "        text-align: right;\n",
       "    }\n",
       "</style>\n",
       "<table border=\"1\" class=\"dataframe\">\n",
       "  <thead>\n",
       "    <tr style=\"text-align: right;\">\n",
       "      <th></th>\n",
       "      <th>RM</th>\n",
       "      <th>LSTAT</th>\n",
       "      <th>PTRATIO</th>\n",
       "      <th>MEDV</th>\n",
       "    </tr>\n",
       "  </thead>\n",
       "  <tbody>\n",
       "    <tr>\n",
       "      <th>0</th>\n",
       "      <td>6.575</td>\n",
       "      <td>4.98</td>\n",
       "      <td>15.3</td>\n",
       "      <td>504000.0</td>\n",
       "    </tr>\n",
       "    <tr>\n",
       "      <th>1</th>\n",
       "      <td>6.421</td>\n",
       "      <td>9.14</td>\n",
       "      <td>17.8</td>\n",
       "      <td>453600.0</td>\n",
       "    </tr>\n",
       "    <tr>\n",
       "      <th>2</th>\n",
       "      <td>7.185</td>\n",
       "      <td>4.03</td>\n",
       "      <td>17.8</td>\n",
       "      <td>728700.0</td>\n",
       "    </tr>\n",
       "    <tr>\n",
       "      <th>3</th>\n",
       "      <td>6.998</td>\n",
       "      <td>2.94</td>\n",
       "      <td>18.7</td>\n",
       "      <td>701400.0</td>\n",
       "    </tr>\n",
       "    <tr>\n",
       "      <th>4</th>\n",
       "      <td>7.147</td>\n",
       "      <td>5.33</td>\n",
       "      <td>18.7</td>\n",
       "      <td>760200.0</td>\n",
       "    </tr>\n",
       "  </tbody>\n",
       "</table>\n",
       "</div>"
      ],
      "text/plain": [
       "      RM  LSTAT  PTRATIO      MEDV\n",
       "0  6.575   4.98     15.3  504000.0\n",
       "1  6.421   9.14     17.8  453600.0\n",
       "2  7.185   4.03     17.8  728700.0\n",
       "3  6.998   2.94     18.7  701400.0\n",
       "4  7.147   5.33     18.7  760200.0"
      ]
     },
     "execution_count": 4,
     "metadata": {},
     "output_type": "execute_result"
    }
   ],
   "source": [
    "\n",
    "dataset.head(5)"
   ]
  },
  {
   "cell_type": "code",
   "execution_count": 5,
   "id": "10c0e807",
   "metadata": {
    "execution": {
     "iopub.execute_input": "2022-04-27T11:27:41.062876Z",
     "iopub.status.busy": "2022-04-27T11:27:41.062157Z",
     "iopub.status.idle": "2022-04-27T11:27:41.065195Z",
     "shell.execute_reply": "2022-04-27T11:27:41.065821Z",
     "shell.execute_reply.started": "2022-04-11T06:14:14.336359Z"
    },
    "papermill": {
     "duration": 0.035564,
     "end_time": "2022-04-27T11:27:41.066055",
     "exception": false,
     "start_time": "2022-04-27T11:27:41.030491",
     "status": "completed"
    },
    "tags": []
   },
   "outputs": [
    {
     "data": {
      "text/plain": [
       "RM         0\n",
       "LSTAT      0\n",
       "PTRATIO    0\n",
       "MEDV       0\n",
       "dtype: int64"
      ]
     },
     "execution_count": 5,
     "metadata": {},
     "output_type": "execute_result"
    }
   ],
   "source": [
    "dataset.isnull().sum()"
   ]
  },
  {
   "cell_type": "code",
   "execution_count": 6,
   "id": "365b9496",
   "metadata": {
    "execution": {
     "iopub.execute_input": "2022-04-27T11:27:41.121859Z",
     "iopub.status.busy": "2022-04-27T11:27:41.120970Z",
     "iopub.status.idle": "2022-04-27T11:27:41.123748Z",
     "shell.execute_reply": "2022-04-27T11:27:41.124287Z",
     "shell.execute_reply.started": "2022-04-11T06:14:14.346434Z"
    },
    "papermill": {
     "duration": 0.033149,
     "end_time": "2022-04-27T11:27:41.124470",
     "exception": false,
     "start_time": "2022-04-27T11:27:41.091321",
     "status": "completed"
    },
    "tags": []
   },
   "outputs": [],
   "source": [
    "X=dataset.iloc[:,:-1].values\n",
    "y=dataset.iloc[:,-1].values"
   ]
  },
  {
   "cell_type": "code",
   "execution_count": 7,
   "id": "19d6c1df",
   "metadata": {
    "execution": {
     "iopub.execute_input": "2022-04-27T11:27:41.174423Z",
     "iopub.status.busy": "2022-04-27T11:27:41.173384Z",
     "iopub.status.idle": "2022-04-27T11:27:41.178724Z",
     "shell.execute_reply": "2022-04-27T11:27:41.179234Z",
     "shell.execute_reply.started": "2022-04-11T06:14:14.357129Z"
    },
    "papermill": {
     "duration": 0.032206,
     "end_time": "2022-04-27T11:27:41.179432",
     "exception": false,
     "start_time": "2022-04-27T11:27:41.147226",
     "status": "completed"
    },
    "tags": []
   },
   "outputs": [],
   "source": [
    "X_train,X_test,y_train,y_test=train_test_split(X,y,test_size=0.2,random_state=42)"
   ]
  },
  {
   "cell_type": "code",
   "execution_count": 8,
   "id": "a8d1cd79",
   "metadata": {
    "execution": {
     "iopub.execute_input": "2022-04-27T11:27:41.233226Z",
     "iopub.status.busy": "2022-04-27T11:27:41.231881Z",
     "iopub.status.idle": "2022-04-27T11:27:41.241182Z",
     "shell.execute_reply": "2022-04-27T11:27:41.241850Z",
     "shell.execute_reply.started": "2022-04-11T06:14:14.370026Z"
    },
    "papermill": {
     "duration": 0.039107,
     "end_time": "2022-04-27T11:27:41.242070",
     "exception": false,
     "start_time": "2022-04-27T11:27:41.202963",
     "status": "completed"
    },
    "tags": []
   },
   "outputs": [
    {
     "data": {
      "text/plain": [
       "DecisionTreeRegressor()"
      ]
     },
     "execution_count": 8,
     "metadata": {},
     "output_type": "execute_result"
    }
   ],
   "source": [
    "dtr=DecisionTreeRegressor()\n",
    "dtr.fit(X_train,y_train)"
   ]
  },
  {
   "cell_type": "code",
   "execution_count": 9,
   "id": "1131674c",
   "metadata": {
    "execution": {
     "iopub.execute_input": "2022-04-27T11:27:41.301733Z",
     "iopub.status.busy": "2022-04-27T11:27:41.299585Z",
     "iopub.status.idle": "2022-04-27T11:27:41.304854Z",
     "shell.execute_reply": "2022-04-27T11:27:41.305600Z",
     "shell.execute_reply.started": "2022-04-11T06:14:14.38441Z"
    },
    "papermill": {
     "duration": 0.033818,
     "end_time": "2022-04-27T11:27:41.305784",
     "exception": false,
     "start_time": "2022-04-27T11:27:41.271966",
     "status": "completed"
    },
    "tags": []
   },
   "outputs": [],
   "source": [
    "#predict the price\n",
    "\n",
    "y_pred=dtr.predict(X_test)"
   ]
  },
  {
   "cell_type": "code",
   "execution_count": 10,
   "id": "05bfa34a",
   "metadata": {
    "execution": {
     "iopub.execute_input": "2022-04-27T11:27:41.361529Z",
     "iopub.status.busy": "2022-04-27T11:27:41.360502Z",
     "iopub.status.idle": "2022-04-27T11:27:41.365019Z",
     "shell.execute_reply": "2022-04-27T11:27:41.364428Z",
     "shell.execute_reply.started": "2022-04-11T06:14:14.390468Z"
    },
    "papermill": {
     "duration": 0.035447,
     "end_time": "2022-04-27T11:27:41.365349",
     "exception": false,
     "start_time": "2022-04-27T11:27:41.329902",
     "status": "completed"
    },
    "tags": []
   },
   "outputs": [
    {
     "data": {
      "text/plain": [
       "6200955000.0"
      ]
     },
     "execution_count": 10,
     "metadata": {},
     "output_type": "execute_result"
    }
   ],
   "source": [
    "mse=mean_squared_error(y_pred,y_test)\n",
    "mse"
   ]
  },
  {
   "cell_type": "code",
   "execution_count": 11,
   "id": "4ba9c035",
   "metadata": {
    "execution": {
     "iopub.execute_input": "2022-04-27T11:27:41.422667Z",
     "iopub.status.busy": "2022-04-27T11:27:41.421715Z",
     "iopub.status.idle": "2022-04-27T11:27:41.490716Z",
     "shell.execute_reply": "2022-04-27T11:27:41.489958Z",
     "shell.execute_reply.started": "2022-04-11T06:44:47.211263Z"
    },
    "papermill": {
     "duration": 0.098231,
     "end_time": "2022-04-27T11:27:41.490879",
     "exception": false,
     "start_time": "2022-04-27T11:27:41.392648",
     "status": "completed"
    },
    "tags": []
   },
   "outputs": [],
   "source": [
    "# Random forest tree\n",
    "\n",
    "from sklearn.ensemble import RandomForestRegressor"
   ]
  },
  {
   "cell_type": "code",
   "execution_count": 12,
   "id": "efa69228",
   "metadata": {
    "execution": {
     "iopub.execute_input": "2022-04-27T11:27:41.553375Z",
     "iopub.status.busy": "2022-04-27T11:27:41.545461Z",
     "iopub.status.idle": "2022-04-27T11:27:41.574189Z",
     "shell.execute_reply": "2022-04-27T11:27:41.574768Z",
     "shell.execute_reply.started": "2022-04-11T06:45:54.086345Z"
    },
    "papermill": {
     "duration": 0.058932,
     "end_time": "2022-04-27T11:27:41.574957",
     "exception": false,
     "start_time": "2022-04-27T11:27:41.516025",
     "status": "completed"
    },
    "tags": []
   },
   "outputs": [
    {
     "data": {
      "text/plain": [
       "RandomForestRegressor(n_estimators=10, random_state=42)"
      ]
     },
     "execution_count": 12,
     "metadata": {},
     "output_type": "execute_result"
    }
   ],
   "source": [
    "rfr=RandomForestRegressor(n_estimators=10,random_state=42)\n",
    "rfr.fit(X_train,y_train)"
   ]
  },
  {
   "cell_type": "code",
   "execution_count": 13,
   "id": "16ae382d",
   "metadata": {
    "execution": {
     "iopub.execute_input": "2022-04-27T11:27:41.631850Z",
     "iopub.status.busy": "2022-04-27T11:27:41.630604Z",
     "iopub.status.idle": "2022-04-27T11:27:41.638256Z",
     "shell.execute_reply": "2022-04-27T11:27:41.638908Z",
     "shell.execute_reply.started": "2022-04-11T06:46:19.288843Z"
    },
    "papermill": {
     "duration": 0.037801,
     "end_time": "2022-04-27T11:27:41.639095",
     "exception": false,
     "start_time": "2022-04-27T11:27:41.601294",
     "status": "completed"
    },
    "tags": []
   },
   "outputs": [],
   "source": [
    "y_pred=rfr.predict(X_test)"
   ]
  },
  {
   "cell_type": "code",
   "execution_count": 14,
   "id": "1e493b08",
   "metadata": {
    "execution": {
     "iopub.execute_input": "2022-04-27T11:27:41.698271Z",
     "iopub.status.busy": "2022-04-27T11:27:41.695907Z",
     "iopub.status.idle": "2022-04-27T11:27:41.700737Z",
     "shell.execute_reply": "2022-04-27T11:27:41.701490Z",
     "shell.execute_reply.started": "2022-04-11T06:46:52.889541Z"
    },
    "papermill": {
     "duration": 0.035259,
     "end_time": "2022-04-27T11:27:41.701674",
     "exception": false,
     "start_time": "2022-04-27T11:27:41.666415",
     "status": "completed"
    },
    "tags": []
   },
   "outputs": [],
   "source": [
    "mse=mean_squared_error(y_pred,y_test)"
   ]
  },
  {
   "cell_type": "code",
   "execution_count": 15,
   "id": "4ce6e698",
   "metadata": {
    "execution": {
     "iopub.execute_input": "2022-04-27T11:27:41.760541Z",
     "iopub.status.busy": "2022-04-27T11:27:41.759579Z",
     "iopub.status.idle": "2022-04-27T11:27:41.763936Z",
     "shell.execute_reply": "2022-04-27T11:27:41.763269Z",
     "shell.execute_reply.started": "2022-04-11T06:47:00.369274Z"
    },
    "papermill": {
     "duration": 0.035746,
     "end_time": "2022-04-27T11:27:41.764098",
     "exception": false,
     "start_time": "2022-04-27T11:27:41.728352",
     "status": "completed"
    },
    "tags": []
   },
   "outputs": [
    {
     "name": "stdout",
     "output_type": "stream",
     "text": [
      "3418694550.0\n"
     ]
    }
   ],
   "source": [
    "print(mse)"
   ]
  },
  {
   "cell_type": "code",
   "execution_count": 16,
   "id": "dba3dfe1",
   "metadata": {
    "execution": {
     "iopub.execute_input": "2022-04-27T11:27:41.819745Z",
     "iopub.status.busy": "2022-04-27T11:27:41.819025Z",
     "iopub.status.idle": "2022-04-27T11:27:41.938725Z",
     "shell.execute_reply": "2022-04-27T11:27:41.939326Z",
     "shell.execute_reply.started": "2022-04-11T06:59:17.134112Z"
    },
    "papermill": {
     "duration": 0.149967,
     "end_time": "2022-04-27T11:27:41.939520",
     "exception": false,
     "start_time": "2022-04-27T11:27:41.789553",
     "status": "completed"
    },
    "tags": []
   },
   "outputs": [],
   "source": [
    "# XGboost\n",
    "\n",
    "from xgboost import XGBRegressor"
   ]
  },
  {
   "cell_type": "code",
   "execution_count": 17,
   "id": "b0ba000f",
   "metadata": {
    "execution": {
     "iopub.execute_input": "2022-04-27T11:27:41.994689Z",
     "iopub.status.busy": "2022-04-27T11:27:41.993740Z",
     "iopub.status.idle": "2022-04-27T11:27:42.423253Z",
     "shell.execute_reply": "2022-04-27T11:27:42.423802Z",
     "shell.execute_reply.started": "2022-04-11T07:00:45.062946Z"
    },
    "papermill": {
     "duration": 0.459392,
     "end_time": "2022-04-27T11:27:42.423981",
     "exception": false,
     "start_time": "2022-04-27T11:27:41.964589",
     "status": "completed"
    },
    "tags": []
   },
   "outputs": [
    {
     "data": {
      "text/plain": [
       "XGBRegressor(base_score=0.5, booster='gbtree', colsample_bylevel=1,\n",
       "             colsample_bynode=1, colsample_bytree=1, enable_categorical=False,\n",
       "             gamma=0, gpu_id=-1, importance_type=None,\n",
       "             interaction_constraints='', learning_rate=0.300000012,\n",
       "             max_delta_step=0, max_depth=6, min_child_weight=1, missing=nan,\n",
       "             monotone_constraints='()', n_estimators=100, n_jobs=4,\n",
       "             num_parallel_tree=1, predictor='auto', random_state=0, reg_alpha=0,\n",
       "             reg_lambda=1, scale_pos_weight=1, subsample=1, tree_method='exact',\n",
       "             validate_parameters=1, verbosity=None)"
      ]
     },
     "execution_count": 17,
     "metadata": {},
     "output_type": "execute_result"
    }
   ],
   "source": [
    "regressor=XGBRegressor()\n",
    "regressor.fit(X_train,y_train)"
   ]
  },
  {
   "cell_type": "code",
   "execution_count": 18,
   "id": "fff75fde",
   "metadata": {
    "execution": {
     "iopub.execute_input": "2022-04-27T11:27:42.478370Z",
     "iopub.status.busy": "2022-04-27T11:27:42.477660Z",
     "iopub.status.idle": "2022-04-27T11:27:42.488451Z",
     "shell.execute_reply": "2022-04-27T11:27:42.489010Z",
     "shell.execute_reply.started": "2022-04-11T07:01:29.459271Z"
    },
    "papermill": {
     "duration": 0.040635,
     "end_time": "2022-04-27T11:27:42.489243",
     "exception": false,
     "start_time": "2022-04-27T11:27:42.448608",
     "status": "completed"
    },
    "tags": []
   },
   "outputs": [],
   "source": [
    "y_pred=regressor.predict(X_test)"
   ]
  },
  {
   "cell_type": "code",
   "execution_count": 19,
   "id": "513bbad4",
   "metadata": {
    "execution": {
     "iopub.execute_input": "2022-04-27T11:27:42.546144Z",
     "iopub.status.busy": "2022-04-27T11:27:42.545044Z",
     "iopub.status.idle": "2022-04-27T11:27:42.547276Z",
     "shell.execute_reply": "2022-04-27T11:27:42.547766Z",
     "shell.execute_reply.started": "2022-04-11T07:01:55.323152Z"
    },
    "papermill": {
     "duration": 0.032444,
     "end_time": "2022-04-27T11:27:42.547949",
     "exception": false,
     "start_time": "2022-04-27T11:27:42.515505",
     "status": "completed"
    },
    "tags": []
   },
   "outputs": [],
   "source": [
    "mse=mean_squared_error(y_pred,y_test)"
   ]
  },
  {
   "cell_type": "code",
   "execution_count": 20,
   "id": "407a6ed5",
   "metadata": {
    "execution": {
     "iopub.execute_input": "2022-04-27T11:27:42.601409Z",
     "iopub.status.busy": "2022-04-27T11:27:42.600320Z",
     "iopub.status.idle": "2022-04-27T11:27:42.606003Z",
     "shell.execute_reply": "2022-04-27T11:27:42.606607Z",
     "shell.execute_reply.started": "2022-04-11T07:01:57.53416Z"
    },
    "papermill": {
     "duration": 0.034253,
     "end_time": "2022-04-27T11:27:42.606799",
     "exception": false,
     "start_time": "2022-04-27T11:27:42.572546",
     "status": "completed"
    },
    "tags": []
   },
   "outputs": [
    {
     "data": {
      "text/plain": [
       "3715700280.305766"
      ]
     },
     "execution_count": 20,
     "metadata": {},
     "output_type": "execute_result"
    }
   ],
   "source": [
    "mse"
   ]
  },
  {
   "cell_type": "code",
   "execution_count": null,
   "id": "49416f72",
   "metadata": {
    "papermill": {
     "duration": 0.024741,
     "end_time": "2022-04-27T11:27:42.656450",
     "exception": false,
     "start_time": "2022-04-27T11:27:42.631709",
     "status": "completed"
    },
    "tags": []
   },
   "outputs": [],
   "source": []
  }
 ],
 "metadata": {
  "kernelspec": {
   "display_name": "Python 3",
   "language": "python",
   "name": "python3"
  },
  "language_info": {
   "codemirror_mode": {
    "name": "ipython",
    "version": 3
   },
   "file_extension": ".py",
   "mimetype": "text/x-python",
   "name": "python",
   "nbconvert_exporter": "python",
   "pygments_lexer": "ipython3",
   "version": "3.7.12"
  },
  "papermill": {
   "default_parameters": {},
   "duration": 14.403875,
   "end_time": "2022-04-27T11:27:43.493679",
   "environment_variables": {},
   "exception": null,
   "input_path": "__notebook__.ipynb",
   "output_path": "__notebook__.ipynb",
   "parameters": {},
   "start_time": "2022-04-27T11:27:29.089804",
   "version": "2.3.3"
  }
 },
 "nbformat": 4,
 "nbformat_minor": 5
}
